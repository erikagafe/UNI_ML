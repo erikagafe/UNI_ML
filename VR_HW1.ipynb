{
 "cells": [
  {
   "cell_type": "code",
   "execution_count": 1,
   "metadata": {
    "collapsed": true
   },
   "outputs": [],
   "source": [
    "path = \"/Users/erika/Documents/Clickbait/myenv/ML\""
   ]
  },
  {
   "cell_type": "code",
   "execution_count": 2,
   "metadata": {
    "collapsed": true
   },
   "outputs": [],
   "source": [
    "import numpy as np\n",
    "import pandas as pd\n",
    "\n",
    "myfile = \"Fisher.txt\"\n",
    "file = pd.read_csv(myfile,  delimiter=\"\\t\")"
   ]
  },
  {
   "cell_type": "code",
   "execution_count": 3,
   "metadata": {},
   "outputs": [
    {
     "data": {
      "text/html": [
       "<div>\n",
       "<style>\n",
       "    .dataframe thead tr:only-child th {\n",
       "        text-align: right;\n",
       "    }\n",
       "\n",
       "    .dataframe thead th {\n",
       "        text-align: left;\n",
       "    }\n",
       "\n",
       "    .dataframe tbody tr th {\n",
       "        vertical-align: top;\n",
       "    }\n",
       "</style>\n",
       "<table border=\"1\" class=\"dataframe\">\n",
       "  <thead>\n",
       "    <tr style=\"text-align: right;\">\n",
       "      <th></th>\n",
       "      <th>Type</th>\n",
       "      <th>PW</th>\n",
       "      <th>PL</th>\n",
       "      <th>SW</th>\n",
       "      <th>SL</th>\n",
       "    </tr>\n",
       "  </thead>\n",
       "  <tbody>\n",
       "    <tr>\n",
       "      <th>0</th>\n",
       "      <td>0</td>\n",
       "      <td>2</td>\n",
       "      <td>14</td>\n",
       "      <td>33</td>\n",
       "      <td>50</td>\n",
       "    </tr>\n",
       "    <tr>\n",
       "      <th>1</th>\n",
       "      <td>1</td>\n",
       "      <td>24</td>\n",
       "      <td>56</td>\n",
       "      <td>31</td>\n",
       "      <td>67</td>\n",
       "    </tr>\n",
       "    <tr>\n",
       "      <th>2</th>\n",
       "      <td>1</td>\n",
       "      <td>23</td>\n",
       "      <td>51</td>\n",
       "      <td>31</td>\n",
       "      <td>69</td>\n",
       "    </tr>\n",
       "    <tr>\n",
       "      <th>3</th>\n",
       "      <td>0</td>\n",
       "      <td>2</td>\n",
       "      <td>10</td>\n",
       "      <td>36</td>\n",
       "      <td>46</td>\n",
       "    </tr>\n",
       "    <tr>\n",
       "      <th>4</th>\n",
       "      <td>1</td>\n",
       "      <td>20</td>\n",
       "      <td>52</td>\n",
       "      <td>30</td>\n",
       "      <td>65</td>\n",
       "    </tr>\n",
       "  </tbody>\n",
       "</table>\n",
       "</div>"
      ],
      "text/plain": [
       "   Type  PW  PL  SW  SL\n",
       "0     0   2  14  33  50\n",
       "1     1  24  56  31  67\n",
       "2     1  23  51  31  69\n",
       "3     0   2  10  36  46\n",
       "4     1  20  52  30  65"
      ]
     },
     "execution_count": 3,
     "metadata": {},
     "output_type": "execute_result"
    }
   ],
   "source": [
    "df = pd.DataFrame(file)\n",
    "df.head()"
   ]
  },
  {
   "cell_type": "code",
   "execution_count": 4,
   "metadata": {
    "collapsed": true
   },
   "outputs": [],
   "source": [
    "def Mean(t):\n",
    "    test = pd.DataFrame()\n",
    "    Type = df.loc[df['Type'] == [t]] \n",
    "    Mean= Type.mean()\n",
    "    Max= Type.max()\n",
    "    Min= Type.min()\n",
    "    info_pd = test.append(Mean, ignore_index=True)\n",
    "    info_pd = info_pd.append(Max, ignore_index=True)\n",
    "    info_pd = info_pd.append(Min, ignore_index=True)\n",
    "    info_pd.index = [\"Mean\", \"Max\", \"Min\"]\n",
    "    return info_pd\n"
   ]
  },
  {
   "cell_type": "code",
   "execution_count": 5,
   "metadata": {},
   "outputs": [
    {
     "name": "stdout",
     "output_type": "stream",
     "text": [
      "         PL    PW    SL     SW  Type\n",
      "Mean  14.62  2.46  50.1  34.28   0.0\n",
      "Max   19.00  6.00  58.0  44.00   0.0\n",
      "Min   10.00  1.00  43.0  23.00   0.0\n",
      "         PL     PW     SL     SW  Type\n",
      "Mean  55.52  20.06  65.88  29.74   1.0\n",
      "Max   69.00  25.00  79.00  38.00   1.0\n",
      "Min   45.00  13.00  49.00  22.00   1.0\n",
      "         PL     PW     SL     SW  Type\n",
      "Mean  43.22  13.26  59.36  27.64   2.0\n",
      "Max   56.00  18.00  70.00  34.00   2.0\n",
      "Min   30.00  10.00  49.00  20.00   2.0\n"
     ]
    }
   ],
   "source": [
    "types = df.Type.unique()\n",
    "for t in types:\n",
    "    print (Mean(t))"
   ]
  },
  {
   "cell_type": "code",
   "execution_count": 6,
   "metadata": {},
   "outputs": [
    {
     "data": {
      "text/plain": [
       "<matplotlib.text.Text at 0x10e8aca20>"
      ]
     },
     "execution_count": 6,
     "metadata": {},
     "output_type": "execute_result"
    }
   ],
   "source": [
    "import matplotlib.pyplot as plt\n",
    "\n",
    "ax = df.loc[df['Type']== 0].plot.scatter(x='PL', y='SL', color='Blue', label='Setosa');\n",
    "ay = df.loc[df['Type']== 1].plot.scatter(x='PL', y='SL', color='Pink', label='Virginica', ax = ax);\n",
    "df.loc[df['Type']== 2].plot.scatter(x='PL', y='SL', color='Yellow', label='Versicolor', ax =ax );\n",
    "ax.set_xlabel(\"Petal length\", fontsize=12)\n",
    "ax.set_ylabel(\"Sepal length \", fontsize=12)"
   ]
  },
  {
   "cell_type": "code",
   "execution_count": 7,
   "metadata": {},
   "outputs": [
    {
     "data": {
      "image/png": "[encoded data removed]",
      "text/plain": [
       "<matplotlib.figure.Figure at 0x10e7f4ba8>"
      ]
     },
     "metadata": {},
     "output_type": "display_data"
    }
   ],
   "source": [
    "plt.show()"
   ]
  },
  {
   "cell_type": "code",
   "execution_count": 8,
   "metadata": {},
   "outputs": [
    {
     "data": {
      "text/html": [
       "<div>\n",
       "<style>\n",
       "    .dataframe thead tr:only-child th {\n",
       "        text-align: right;\n",
       "    }\n",
       "\n",
       "    .dataframe thead th {\n",
       "        text-align: left;\n",
       "    }\n",
       "\n",
       "    .dataframe tbody tr th {\n",
       "        vertical-align: top;\n",
       "    }\n",
       "</style>\n",
       "<table border=\"1\" class=\"dataframe\">\n",
       "  <thead>\n",
       "    <tr style=\"text-align: right;\">\n",
       "      <th></th>\n",
       "      <th>Type</th>\n",
       "      <th>PW</th>\n",
       "      <th>PL</th>\n",
       "      <th>SW</th>\n",
       "      <th>SL</th>\n",
       "    </tr>\n",
       "  </thead>\n",
       "  <tbody>\n",
       "    <tr>\n",
       "      <th>0</th>\n",
       "      <td>0</td>\n",
       "      <td>2</td>\n",
       "      <td>14</td>\n",
       "      <td>33</td>\n",
       "      <td>50</td>\n",
       "    </tr>\n",
       "    <tr>\n",
       "      <th>1</th>\n",
       "      <td>1</td>\n",
       "      <td>24</td>\n",
       "      <td>56</td>\n",
       "      <td>31</td>\n",
       "      <td>67</td>\n",
       "    </tr>\n",
       "    <tr>\n",
       "      <th>2</th>\n",
       "      <td>1</td>\n",
       "      <td>23</td>\n",
       "      <td>51</td>\n",
       "      <td>31</td>\n",
       "      <td>69</td>\n",
       "    </tr>\n",
       "    <tr>\n",
       "      <th>3</th>\n",
       "      <td>0</td>\n",
       "      <td>2</td>\n",
       "      <td>10</td>\n",
       "      <td>36</td>\n",
       "      <td>46</td>\n",
       "    </tr>\n",
       "    <tr>\n",
       "      <th>4</th>\n",
       "      <td>1</td>\n",
       "      <td>20</td>\n",
       "      <td>52</td>\n",
       "      <td>30</td>\n",
       "      <td>65</td>\n",
       "    </tr>\n",
       "  </tbody>\n",
       "</table>\n",
       "</div>"
      ],
      "text/plain": [
       "   Type  PW  PL  SW  SL\n",
       "0     0   2  14  33  50\n",
       "1     1  24  56  31  67\n",
       "2     1  23  51  31  69\n",
       "3     0   2  10  36  46\n",
       "4     1  20  52  30  65"
      ]
     },
     "execution_count": 8,
     "metadata": {},
     "output_type": "execute_result"
    }
   ],
   "source": [
    "set_vir = df.loc[df['Type']!= 2]\n",
    "set_vir.head()"
   ]
  },
  {
   "cell_type": "code",
   "execution_count": 9,
   "metadata": {},
   "outputs": [
    {
     "data": {
      "text/html": [
       "<div>\n",
       "<style>\n",
       "    .dataframe thead tr:only-child th {\n",
       "        text-align: right;\n",
       "    }\n",
       "\n",
       "    .dataframe thead th {\n",
       "        text-align: left;\n",
       "    }\n",
       "\n",
       "    .dataframe tbody tr th {\n",
       "        vertical-align: top;\n",
       "    }\n",
       "</style>\n",
       "<table border=\"1\" class=\"dataframe\">\n",
       "  <thead>\n",
       "    <tr style=\"text-align: right;\">\n",
       "      <th></th>\n",
       "      <th>Type</th>\n",
       "      <th>SL</th>\n",
       "    </tr>\n",
       "  </thead>\n",
       "  <tbody>\n",
       "    <tr>\n",
       "      <th>0</th>\n",
       "      <td>0</td>\n",
       "      <td>50</td>\n",
       "    </tr>\n",
       "    <tr>\n",
       "      <th>1</th>\n",
       "      <td>1</td>\n",
       "      <td>67</td>\n",
       "    </tr>\n",
       "    <tr>\n",
       "      <th>2</th>\n",
       "      <td>1</td>\n",
       "      <td>69</td>\n",
       "    </tr>\n",
       "    <tr>\n",
       "      <th>3</th>\n",
       "      <td>0</td>\n",
       "      <td>46</td>\n",
       "    </tr>\n",
       "    <tr>\n",
       "      <th>4</th>\n",
       "      <td>1</td>\n",
       "      <td>65</td>\n",
       "    </tr>\n",
       "  </tbody>\n",
       "</table>\n",
       "</div>"
      ],
      "text/plain": [
       "   Type  SL\n",
       "0     0  50\n",
       "1     1  67\n",
       "2     1  69\n",
       "3     0  46\n",
       "4     1  65"
      ]
     },
     "execution_count": 9,
     "metadata": {},
     "output_type": "execute_result"
    }
   ],
   "source": [
    "subset = set_vir.loc[:,('Type', 'SL')]\n",
    "subset.head()"
   ]
  },
  {
   "cell_type": "code",
   "execution_count": 10,
   "metadata": {},
   "outputs": [
    {
     "data": {
      "image/png": "[encoded data removed]",
      "text/plain": [
       "<matplotlib.figure.Figure at 0x10e9334e0>"
      ]
     },
     "metadata": {},
     "output_type": "display_data"
    }
   ],
   "source": [
    "subset.plot.scatter(x='SL', y='Type')\n",
    "plt.show()"
   ]
  },
  {
   "cell_type": "code",
   "execution_count": 11,
   "metadata": {
    "collapsed": true
   },
   "outputs": [],
   "source": [
    "y = subset.loc[:,'Type']\n",
    "x = subset.loc[:,'SL']"
   ]
  },
  {
   "cell_type": "code",
   "execution_count": 12,
   "metadata": {},
   "outputs": [
    {
     "name": "stdout",
     "output_type": "stream",
     "text": [
      "(100, 3)\n"
     ]
    }
   ],
   "source": [
    "## Put everything in one matrix, with constant column prepended\n",
    "examples = np.vstack([np.ones_like(x), x, y])\n",
    "examples = examples.T\n",
    "\n",
    "print(examples.shape)"
   ]
  },
  {
   "cell_type": "code",
   "execution_count": 13,
   "metadata": {
    "collapsed": true
   },
   "outputs": [],
   "source": [
    "def rss(examples, w):\n",
    "    \"\"\"Compute the residual sum of squares for a linear model.\n",
    "       \n",
    "       Arguments:\n",
    "       examples -- (n, p + 1)-matrix of predictors and response\n",
    "       w        -- p-vector of linear model weights\n",
    "    \"\"\"\n",
    "    x = examples[:,:-1]    ### First p columns: shape = (n, p)\n",
    "    y = examples.T[-1]     ### Last column: shape = (n,)\n",
    "    y_pred = w.dot(x.T)\n",
    "    rss = (y - y_pred)**2\n",
    "    ### Note: w.dot(x) has shape = (n,)\n",
    "    return rss.sum()"
   ]
  },
  {
   "cell_type": "code",
   "execution_count": 14,
   "metadata": {
    "collapsed": true
   },
   "outputs": [],
   "source": [
    "def lms(examples, eta, iterations, print_every=1000):\n",
    "    np.random.seed(2)\n",
    "    rows, columns = examples.shape\n",
    "    p = columns - 1 ### last column is the response variable\n",
    "    w = np.random.uniform(low=-1.0, high=1.0, size=p)\n",
    "    \n",
    "    for iteration in range(iterations):\n",
    "        rand = np.random.randint(0, rows)  ### select random index\n",
    "        x = examples[rand,:-1]   ### Everything but the last column\n",
    "        c = examples[rand,-1:]   ### The last column\n",
    "        \n",
    "        y = w.dot(x)\n",
    "        error = c - y            ### Error in the single chosen example\n",
    "        w += (eta * error * x) \n",
    "        \n",
    "        if iteration % print_every == 0:\n",
    "            print(\"Iteration: {} RSS: {:.2f}\".format(iteration, \n",
    "                                                     rss(examples, w)))\n",
    "    return w"
   ]
  },
  {
   "cell_type": "code",
   "execution_count": 15,
   "metadata": {},
   "outputs": [
    {
     "name": "stdout",
     "output_type": "stream",
     "text": [
      "Iteration: 0 RSS: 64705.87\n",
      "Iteration: 10000 RSS: 79.68\n",
      "Iteration: 20000 RSS: 36.15\n",
      "Iteration: 30000 RSS: 33.50\n",
      "Iteration: 40000 RSS: 15.20\n",
      "Iteration: 50000 RSS: 41.55\n",
      "Iteration: 60000 RSS: 27.49\n",
      "Iteration: 70000 RSS: 38.55\n",
      "Iteration: 80000 RSS: 46.75\n",
      "Iteration: 90000 RSS: 18.89\n",
      "Iteration: 100000 RSS: 9.02\n",
      "Iteration: 110000 RSS: 13.08\n",
      "Iteration: 120000 RSS: 98.16\n",
      "Iteration: 130000 RSS: 45.08\n",
      "Iteration: 140000 RSS: 8.23\n",
      "Iteration: 150000 RSS: 14.89\n",
      "Iteration: 160000 RSS: 10.38\n",
      "Iteration: 170000 RSS: 21.41\n",
      "Iteration: 180000 RSS: 8.02\n",
      "Iteration: 190000 RSS: 47.35\n",
      "Iteration: 200000 RSS: 10.55\n"
     ]
    }
   ],
   "source": [
    "w = lms(examples, eta=0.0004, iterations=210000, print_every=10000)"
   ]
  },
  {
   "cell_type": "code",
   "execution_count": 16,
   "metadata": {},
   "outputs": [
    {
     "data": {
      "text/plain": [
       "array([-1.86748261,  0.0389549 ])"
      ]
     },
     "execution_count": 16,
     "metadata": {},
     "output_type": "execute_result"
    }
   ],
   "source": [
    "w"
   ]
  },
  {
   "cell_type": "code",
   "execution_count": 17,
   "metadata": {
    "collapsed": true
   },
   "outputs": [],
   "source": [
    "latitudes = x.T"
   ]
  },
  {
   "cell_type": "code",
   "execution_count": 18,
   "metadata": {},
   "outputs": [
    {
     "name": "stdout",
     "output_type": "stream",
     "text": [
      "[43, 79] [-0.19242188221019307, 1.2099545444819761]\n"
     ]
    }
   ],
   "source": [
    "def predict_temperature(lat):\n",
    "    return w.dot([1, lat])\n",
    "\n",
    "line_x = [min(latitudes), max(latitudes)]\n",
    "line_y = [predict_temperature(v) for v in line_x]\n",
    "\n",
    "print(line_x, line_y)"
   ]
  },
  {
   "cell_type": "code",
   "execution_count": 19,
   "metadata": {
    "collapsed": true
   },
   "outputs": [],
   "source": [
    "plt.scatter(x, y)\n",
    "plt.xlabel(\"Latitude\")\n",
    "plt.ylabel(\"January Temperature\");\n",
    "plt.plot(line_x, line_y, 'r');"
   ]
  },
  {
   "cell_type": "code",
   "execution_count": 20,
   "metadata": {},
   "outputs": [
    {
     "data": {
      "image/png": "[encoded data removed]",
      "text/plain": [
       "<matplotlib.figure.Figure at 0x10e9c91d0>"
      ]
     },
     "metadata": {},
     "output_type": "display_data"
    }
   ],
   "source": [
    "plt.show()"
   ]
  },
  {
   "cell_type": "code",
   "execution_count": null,
   "metadata": {
    "collapsed": true
   },
   "outputs": [],
   "source": []
  }
 ],
 "metadata": {
  "kernelspec": {
   "display_name": "Python 3",
   "language": "python",
   "name": "python3"
  },
  "language_info": {
   "codemirror_mode": {
    "name": "ipython",
    "version": 3
   },
   "file_extension": ".py",
   "mimetype": "text/x-python",
   "name": "python",
   "nbconvert_exporter": "python",
   "pygments_lexer": "ipython3",
   "version": "3.6.2"
  }
 },
 "nbformat": 4,
 "nbformat_minor": 2
}
