{
 "cells": [
  {
   "cell_type": "code",
   "execution_count": 1,
   "metadata": {},
   "outputs": [],
   "source": [
    "import numpy as np\n",
    "import pandas as pd"
   ]
  },
  {
   "cell_type": "code",
   "execution_count": 2,
   "metadata": {},
   "outputs": [],
   "source": [
    "Data = [('sunny','warm',  'normal', 'strong', 'warm', 'same', True), \n",
    "        ('sunny','warm',  'high',   'strong', 'warm', 'same', True),\n",
    "        ('rainy','cold',  'high',   'strong', 'warm', 'change', False),\n",
    "        ('sunny','warm',  'high',   'strong', 'cool', 'change', True),\n",
    "        ('sunny','warm',  'high',   'strong', 'warm', 'same', True)]"
   ]
  },
  {
   "cell_type": "code",
   "execution_count": 11,
   "metadata": {},
   "outputs": [],
   "source": [
    "def check (gx, sx):\n",
    "    a = list()\n",
    "    \n",
    "    for idx, dx in enumerate(gx):\n",
    "        if sx[idx] != '?':\n",
    "            if dx[idx] == sx[idx]:\n",
    "                a.append(dx)                   \n",
    "    return a\n",
    "        "
   ]
  },
  {
   "cell_type": "code",
   "execution_count": 4,
   "metadata": {},
   "outputs": [],
   "source": [
    "def min_specialization(g1,h):\n",
    "    gn = list()\n",
    "    for i in range(len(h)):\n",
    "        g = g_0(len(h))\n",
    "        g = list(g)\n",
    "        if g1[i] != h[i]:\n",
    "            if h[i] != '?':   \n",
    "                g[i] = h[i]\n",
    "                gn.append(g)\n",
    "    return gn"
   ]
  },
  {
   "cell_type": "code",
   "execution_count": 5,
   "metadata": {},
   "outputs": [],
   "source": [
    "def min_generalization(s,h):\n",
    "    new = []\n",
    "    for i in range(len(h)):\n",
    "        if s[i] == h[i]:\n",
    "            test = h[i]\n",
    "            new.append(test)\n",
    "        else:\n",
    "            new.append('?')\n",
    "    return new"
   ]
  },
  {
   "cell_type": "code",
   "execution_count": 13,
   "metadata": {},
   "outputs": [],
   "source": [
    "def cea (Data):\n",
    "    data = (Data[0])\n",
    "    data = data[0:-1]\n",
    "    sx = list()\n",
    "    i = 0\n",
    "    s0 = s_0(len(data))\n",
    "    g0 = []\n",
    "    for idx, x in enumerate(Data):\n",
    "        if x[-1] == True:\n",
    "            if len(g0)> 0:\n",
    "                a = check (g0,sx)\n",
    "                g0 = a\n",
    "            if i == 0:\n",
    "                data = (Data[0])\n",
    "                s0 = data[0:-1]\n",
    "            else:\n",
    "                s0 = s1\n",
    "            d = x[0:-1]\n",
    "            s1 = min_generalization(d, s0)\n",
    "            sx = s1 \n",
    "            i = i + 1  \n",
    "        else:\n",
    "            d = x[0:-1]\n",
    "            g = min_specialization(d,sx)\n",
    "            g0 = g\n",
    "    print (sx)\n",
    "    print (g0)"
   ]
  },
  {
   "cell_type": "code",
   "execution_count": 14,
   "metadata": {},
   "outputs": [],
   "source": [
    "def more_general(h1, h2):\n",
    "    for i in range(len(h1)):\n",
    "        r = False\n",
    "        if h1[i] == 'T' and h2[i] != 'T': \n",
    "            r= True\n",
    "        elif h1[i] != '?' and h2[i] == '?':\n",
    "            r = True\n",
    "        else:\n",
    "            r = False\n",
    "    return r"
   ]
  },
  {
   "cell_type": "code",
   "execution_count": 15,
   "metadata": {},
   "outputs": [],
   "source": [
    "def g_0(n):\n",
    "    return ('?',) * n "
   ]
  },
  {
   "cell_type": "code",
   "execution_count": 16,
   "metadata": {},
   "outputs": [],
   "source": [
    "def s_0(n):\n",
    "    return ('T',) * n "
   ]
  },
  {
   "cell_type": "code",
   "execution_count": 17,
   "metadata": {},
   "outputs": [
    {
     "name": "stdout",
     "output_type": "stream",
     "text": [
      "['sunny', 'warm', '?', 'strong', '?', '?']\n",
      "[['sunny', '?', '?', '?', '?', '?'], ['?', 'warm', '?', '?', '?', '?']]\n"
     ]
    }
   ],
   "source": [
    "cea(Data)"
   ]
  },
  {
   "cell_type": "code",
   "execution_count": null,
   "metadata": {},
   "outputs": [],
   "source": []
  }
 ],
 "metadata": {
  "kernelspec": {
   "display_name": "Python 3",
   "language": "python",
   "name": "python3"
  },
  "language_info": {
   "codemirror_mode": {
    "name": "ipython",
    "version": 3
   },
   "file_extension": ".py",
   "mimetype": "text/x-python",
   "name": "python",
   "nbconvert_exporter": "python",
   "pygments_lexer": "ipython3",
   "version": "3.6.2"
  }
 },
 "nbformat": 4,
 "nbformat_minor": 2
}
